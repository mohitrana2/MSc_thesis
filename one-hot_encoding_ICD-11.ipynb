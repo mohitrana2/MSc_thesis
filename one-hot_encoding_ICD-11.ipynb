{
 "cells": [
  {
   "cell_type": "code",
   "execution_count": 1,
   "id": "8303ee0c-5a15-44a7-8d79-7afd4d2ca902",
   "metadata": {},
   "outputs": [],
   "source": [
    "import pandas as pd\n",
    "import numpy as np"
   ]
  },
  {
   "cell_type": "code",
   "execution_count": 2,
   "id": "aba1cf38-b686-4698-9b31-c78a0f4150d9",
   "metadata": {},
   "outputs": [],
   "source": [
    "df = pd.read_csv('/data4/msc23104470/data-matrix-TTD-w-HUGO-symbols-ICD-11.csv', sep=',')\n",
    "df.drop(columns=['Unnamed: 0'], inplace=True)"
   ]
  },
  {
   "cell_type": "code",
   "execution_count": 6,
   "id": "d2528756-d285-4ffe-a4c6-ef7da9a817cb",
   "metadata": {},
   "outputs": [
    {
     "name": "stdout",
     "output_type": "stream",
     "text": [
      "Collecting scikit-learn\n",
      "  Downloading scikit_learn-1.5.0-cp39-cp39-manylinux_2_17_x86_64.manylinux2014_x86_64.whl.metadata (11 kB)\n",
      "Requirement already satisfied: numpy>=1.19.5 in /data4/msc23104470/.conda/envs/env_jupyter/lib/python3.9/site-packages (from scikit-learn) (1.26.4)\n",
      "Requirement already satisfied: scipy>=1.6.0 in /data4/msc23104470/.conda/envs/env_jupyter/lib/python3.9/site-packages (from scikit-learn) (1.13.1)\n",
      "Requirement already satisfied: joblib>=1.2.0 in /data4/msc23104470/.conda/envs/env_jupyter/lib/python3.9/site-packages (from scikit-learn) (1.4.2)\n",
      "Collecting threadpoolctl>=3.1.0 (from scikit-learn)\n",
      "  Downloading threadpoolctl-3.5.0-py3-none-any.whl.metadata (13 kB)\n",
      "Downloading scikit_learn-1.5.0-cp39-cp39-manylinux_2_17_x86_64.manylinux2014_x86_64.whl (13.4 MB)\n",
      "\u001b[2K   \u001b[90m━━━━━━━━━━━━━━━━━━━━━━━━━━━━━━━━━━━━━━━━\u001b[0m \u001b[32m13.4/13.4 MB\u001b[0m \u001b[31m59.9 MB/s\u001b[0m eta \u001b[36m0:00:00\u001b[0m:00:01\u001b[0m:01\u001b[0m\n",
      "\u001b[?25hDownloading threadpoolctl-3.5.0-py3-none-any.whl (18 kB)\n",
      "Installing collected packages: threadpoolctl, scikit-learn\n",
      "Successfully installed scikit-learn-1.5.0 threadpoolctl-3.5.0\n",
      "Note: you may need to restart the kernel to use updated packages.\n"
     ]
    }
   ],
   "source": [
    "pip install scikit-learn"
   ]
  },
  {
   "cell_type": "code",
   "execution_count": 3,
   "id": "ee503bdc-520e-4c6b-a550-3058cef083b7",
   "metadata": {},
   "outputs": [],
   "source": [
    "from sklearn.preprocessing import MultiLabelBinarizer\n",
    "\n",
    "# Convert 'ICD-11' column to string (if it's not already)\n",
    "df['ICD-11'] = df['ICD-11'].astype(str)\n",
    "\n",
    "# Store original 'ICD-11' labels in a new column\n",
    "df['Original_ICD-11'] = df['ICD-11']\n",
    "\n",
    "# Splitting classes by '-'\n",
    "df['ICD-11'] = df['ICD-11'].str.split('-')\n",
    "\n",
    "# Extracting the first character of each segment\n",
    "df['ICD-11'] = df['ICD-11'].apply(lambda x: [code[0] for code in x])\n",
    "\n",
    "# Store encoded classes in a new column\n",
    "df['Encoded_Classes'] = df['ICD-11'].apply(lambda x: ','.join(x))\n",
    "\n",
    "# Applying one-hot encoding using MultiLabelBinarizer\n",
    "mlb = MultiLabelBinarizer()\n",
    "encoded_labels = pd.DataFrame(mlb.fit_transform(df['ICD-11']), columns=mlb.classes_, index=df.index)\n",
    "\n",
    "# Concatenate the encoded labels with the original DataFrame\n",
    "df_encoded = pd.concat([df, encoded_labels], axis=1)"
   ]
  },
  {
   "cell_type": "code",
   "execution_count": 4,
   "id": "5565dc4a-051a-4530-882a-0c49792a73f4",
   "metadata": {},
   "outputs": [
    {
     "name": "stdout",
     "output_type": "stream",
     "text": [
      "Original dataframe is: \n",
      "                                              rid     PSME1      ATF1  \\\n",
      "0                 AML001_CD34_6H:BRD-K43389675:10  0.004217 -0.018644   \n",
      "1                 AML001_CD34_6H:BRD-K43389675:10  0.004217 -0.018644   \n",
      "2                 AML001_CD34_6H:BRD-K43389675:10  0.004217 -0.018644   \n",
      "3                  AML001_PC3_6H:BRD-A45664787:10 -0.000762 -0.000233   \n",
      "4             AML001_PC3_6H:BRD-K43389675:0.37037  0.004243 -0.019425   \n",
      "...                                           ...       ...       ...   \n",
      "5695  RAD001_PC3_6H:BRD-K84937637-001-03-2:0.1235 -0.001343  0.022330   \n",
      "5696  RAD001_PC3_6H:BRD-K84937637-001-03-2:0.1235 -0.001343  0.022330   \n",
      "5697      RAD001_PC3_6H:BRD-K84937637-001-03-2:10  0.006401  0.009406   \n",
      "5698      RAD001_PC3_6H:BRD-K84937637-001-03-2:10  0.006401  0.009406   \n",
      "5699      RAD001_PC3_6H:BRD-K84937637-001-03-2:10  0.006401  0.009406   \n",
      "\n",
      "          RHEB     FOXO3      RHOA      IL1B     ASAH1      RALA  ARHGEF12  \\\n",
      "0     0.019958 -0.056607 -0.017211 -0.040410 -0.012175 -0.013127 -0.006405   \n",
      "1     0.019958 -0.056607 -0.017211 -0.040410 -0.012175 -0.013127 -0.006405   \n",
      "2     0.019958 -0.056607 -0.017211 -0.040410 -0.012175 -0.013127 -0.006405   \n",
      "3     0.003371  0.004516  0.009972  0.130947 -0.024684  0.017885  0.023541   \n",
      "4    -0.009953  0.009629  0.003882  0.026752  0.007623 -0.001681  0.003181   \n",
      "...        ...       ...       ...       ...       ...       ...       ...   \n",
      "5695  0.011539  0.005044  0.017594  0.009275 -0.007178 -0.028721  0.033979   \n",
      "5696  0.011539  0.005044  0.017594  0.009275 -0.007178 -0.028721  0.033979   \n",
      "5697  0.021147 -0.014808  0.013453 -0.008992  0.003342 -0.006246 -0.005264   \n",
      "5698  0.021147 -0.014808  0.013453 -0.008992  0.003342 -0.006246 -0.005264   \n",
      "5699  0.021147 -0.014808  0.013453 -0.008992  0.003342 -0.006246 -0.005264   \n",
      "\n",
      "      ...     STK10      UGDH     SQRDL     HEBP1    ATP11B     CD320  \\\n",
      "0     ...  0.012359  0.028994  0.035868  0.012153  0.036431  0.001324   \n",
      "1     ...  0.012359  0.028994  0.035868  0.012153  0.036431  0.001324   \n",
      "2     ...  0.012359  0.028994  0.035868  0.012153  0.036431  0.001324   \n",
      "3     ...  0.029266  0.038909 -0.007869  0.029858  0.012888 -0.052345   \n",
      "4     ... -0.007328  0.023102 -0.041017  0.012306  0.010878 -0.004279   \n",
      "...   ...       ...       ...       ...       ...       ...       ...   \n",
      "5695  ...  0.000216  0.012335  0.009009  0.012971  0.001469  0.013327   \n",
      "5696  ...  0.000216  0.012335  0.009009  0.012971  0.001469  0.013327   \n",
      "5697  ... -0.012605 -0.043669  0.015122  0.041121  0.009549  0.048752   \n",
      "5698  ... -0.012605 -0.043669  0.015122  0.041121  0.009549  0.048752   \n",
      "5699  ... -0.012605 -0.043669  0.015122  0.041121  0.009549  0.048752   \n",
      "\n",
      "        MLLT11     CEBPZ      CBR3  ICD-11  \n",
      "0     0.039140 -0.055924 -0.012614     [2]  \n",
      "1     0.039140 -0.055924 -0.012614     [2]  \n",
      "2     0.039140 -0.055924 -0.012614  [2, 2]  \n",
      "3    -0.008905  0.045641 -0.023661     [B]  \n",
      "4     0.025922  0.042857  0.044424     [2]  \n",
      "...        ...       ...       ...     ...  \n",
      "5695 -0.008807 -0.037837  0.022568     [N]  \n",
      "5696 -0.008807 -0.037837  0.022568     [8]  \n",
      "5697 -0.012588 -0.029582  0.010061     [2]  \n",
      "5698 -0.012588 -0.029582  0.010061     [N]  \n",
      "5699 -0.012588 -0.029582  0.010061     [8]  \n",
      "\n",
      "[5700 rows x 980 columns]\n",
      "\n",
      "\n",
      "Encoded DataFrame is: \n",
      "                                              rid     PSME1      ATF1  \\\n",
      "0                 AML001_CD34_6H:BRD-K43389675:10  0.004217 -0.018644   \n",
      "1                 AML001_CD34_6H:BRD-K43389675:10  0.004217 -0.018644   \n",
      "2                 AML001_CD34_6H:BRD-K43389675:10  0.004217 -0.018644   \n",
      "3                  AML001_PC3_6H:BRD-A45664787:10 -0.000762 -0.000233   \n",
      "4             AML001_PC3_6H:BRD-K43389675:0.37037  0.004243 -0.019425   \n",
      "...                                           ...       ...       ...   \n",
      "5695  RAD001_PC3_6H:BRD-K84937637-001-03-2:0.1235 -0.001343  0.022330   \n",
      "5696  RAD001_PC3_6H:BRD-K84937637-001-03-2:0.1235 -0.001343  0.022330   \n",
      "5697      RAD001_PC3_6H:BRD-K84937637-001-03-2:10  0.006401  0.009406   \n",
      "5698      RAD001_PC3_6H:BRD-K84937637-001-03-2:10  0.006401  0.009406   \n",
      "5699      RAD001_PC3_6H:BRD-K84937637-001-03-2:10  0.006401  0.009406   \n",
      "\n",
      "          RHEB     FOXO3      RHOA      IL1B     ASAH1      RALA  ARHGEF12  \\\n",
      "0     0.019958 -0.056607 -0.017211 -0.040410 -0.012175 -0.013127 -0.006405   \n",
      "1     0.019958 -0.056607 -0.017211 -0.040410 -0.012175 -0.013127 -0.006405   \n",
      "2     0.019958 -0.056607 -0.017211 -0.040410 -0.012175 -0.013127 -0.006405   \n",
      "3     0.003371  0.004516  0.009972  0.130947 -0.024684  0.017885  0.023541   \n",
      "4    -0.009953  0.009629  0.003882  0.026752  0.007623 -0.001681  0.003181   \n",
      "...        ...       ...       ...       ...       ...       ...       ...   \n",
      "5695  0.011539  0.005044  0.017594  0.009275 -0.007178 -0.028721  0.033979   \n",
      "5696  0.011539  0.005044  0.017594  0.009275 -0.007178 -0.028721  0.033979   \n",
      "5697  0.021147 -0.014808  0.013453 -0.008992  0.003342 -0.006246 -0.005264   \n",
      "5698  0.021147 -0.014808  0.013453 -0.008992  0.003342 -0.006246 -0.005264   \n",
      "5699  0.021147 -0.014808  0.013453 -0.008992  0.003342 -0.006246 -0.005264   \n",
      "\n",
      "      ...  E  F  G  H  J  L  M  N  Q  S  \n",
      "0     ...  0  0  0  0  0  0  0  0  0  0  \n",
      "1     ...  0  0  0  0  0  0  0  0  0  0  \n",
      "2     ...  0  0  0  0  0  0  0  0  0  0  \n",
      "3     ...  0  0  0  0  0  0  0  0  0  0  \n",
      "4     ...  0  0  0  0  0  0  0  0  0  0  \n",
      "...   ... .. .. .. .. .. .. .. .. .. ..  \n",
      "5695  ...  0  0  0  0  0  0  0  1  0  0  \n",
      "5696  ...  0  0  0  0  0  0  0  0  0  0  \n",
      "5697  ...  0  0  0  0  0  0  0  0  0  0  \n",
      "5698  ...  0  0  0  0  0  0  0  1  0  0  \n",
      "5699  ...  0  0  0  0  0  0  0  0  0  0  \n",
      "\n",
      "[5700 rows x 1003 columns]\n"
     ]
    }
   ],
   "source": [
    "# Print the encoded DataFrame\n",
    "print(f\"Original dataframe is: \\n{df}\\n\\n\")\n",
    "print(f\"Encoded DataFrame is: \\n{df_encoded}\")"
   ]
  },
  {
   "cell_type": "code",
   "execution_count": 5,
   "id": "f63de37f-7a41-459b-9fc7-ff30a3f4b530",
   "metadata": {},
   "outputs": [],
   "source": [
    "# save the encoded dataframe to a CSV file\n",
    "df_encoded.to_csv('/data4/msc23104470/data-matrix-TTD-w-HUGO-symbols-ICD-11_OHE_Class-1.csv', sep=',')"
   ]
  },
  {
   "cell_type": "code",
   "execution_count": 2,
   "id": "86ad3e56-2b5e-4290-bb97-acc4442bdabb",
   "metadata": {},
   "outputs": [
    {
     "name": "stdout",
     "output_type": "stream",
     "text": [
      "                                              rid     PSME1      ATF1  \\\n",
      "0                 AML001_CD34_6H:BRD-K43389675:10  0.004217 -0.018644   \n",
      "1                  AML001_PC3_6H:BRD-A45664787:10 -0.000762 -0.000233   \n",
      "2             AML001_PC3_6H:BRD-K43389675:0.37037  0.004243 -0.019425   \n",
      "3             AML001_PC3_6H:BRD-K43389675:1.11111  0.012194 -0.011197   \n",
      "4                  AML001_PC3_6H:BRD-K43389675:10  0.021779  0.023403   \n",
      "...                                           ...       ...       ...   \n",
      "4057  RAD001_PC3_6H:BRD-K57545991-050-16-5:0.0412  0.015486  0.007536   \n",
      "4058  RAD001_PC3_6H:BRD-K57569181-001-16-8:0.0015 -0.007766  0.026815   \n",
      "4059      RAD001_PC3_6H:BRD-K64052750-001-04-3:10  0.004797 -0.014972   \n",
      "4060  RAD001_PC3_6H:BRD-K84937637-001-03-2:0.1235 -0.001343  0.022330   \n",
      "4061      RAD001_PC3_6H:BRD-K84937637-001-03-2:10  0.006401  0.009406   \n",
      "\n",
      "          RHEB     FOXO3      RHOA      IL1B     ASAH1      RALA  ARHGEF12  \\\n",
      "0     0.019958 -0.056607 -0.017211 -0.040410 -0.012175 -0.013127 -0.006405   \n",
      "1     0.003371  0.004516  0.009972  0.130947 -0.024684  0.017885  0.023541   \n",
      "2    -0.009953  0.009629  0.003882  0.026752  0.007623 -0.001681  0.003181   \n",
      "3     0.001302 -0.005428  0.014864  0.036932  0.023810  0.020200 -0.023778   \n",
      "4     0.009063 -0.047680  0.024381  0.028317  0.027444 -0.001547 -0.014821   \n",
      "...        ...       ...       ...       ...       ...       ...       ...   \n",
      "4057 -0.017094 -0.009062 -0.001840  0.032501  0.017804  0.034829 -0.000637   \n",
      "4058 -0.009391  0.001375  0.027642  0.038197  0.038286  0.013352 -0.008032   \n",
      "4059 -0.006059  0.002318  0.006356 -0.042466  0.007357  0.028211  0.026124   \n",
      "4060  0.011539  0.005044  0.017594  0.009275 -0.007178 -0.028721  0.033979   \n",
      "4061  0.021147 -0.014808  0.013453 -0.008992  0.003342 -0.006246 -0.005264   \n",
      "\n",
      "      ...  E  F  G  H  J  L  M  N  Q  S  \n",
      "0     ...  0  0  0  0  0  0  0  0  0  0  \n",
      "1     ...  0  0  0  0  0  0  0  0  0  0  \n",
      "2     ...  0  0  0  0  0  0  0  0  0  0  \n",
      "3     ...  0  0  0  0  0  0  0  0  0  0  \n",
      "4     ...  0  0  0  0  0  0  0  0  0  0  \n",
      "...   ... .. .. .. .. .. .. .. .. .. ..  \n",
      "4057  ...  0  0  0  0  0  0  0  0  0  0  \n",
      "4058  ...  0  0  0  0  0  0  0  0  0  0  \n",
      "4059  ...  0  0  0  0  0  0  0  0  0  0  \n",
      "4060  ...  0  0  0  0  0  0  0  1  0  0  \n",
      "4061  ...  0  0  0  0  0  0  0  1  0  0  \n",
      "\n",
      "[4062 rows x 1005 columns]\n"
     ]
    }
   ],
   "source": [
    "import pandas as pd\n",
    "from sklearn.preprocessing import MultiLabelBinarizer\n",
    "\n",
    "df = pd.read_csv('/data4/msc23104470/version1_data-matrix-TTD-w-HUGO-symbols-ICD-11_RD.csv', sep=',')\n",
    "\n",
    "# Convert 'ICD-11' column to string (if it's not already)\n",
    "df['ICD-11'] = df['ICD-11'].astype(str)\n",
    "\n",
    "# Store original 'ICD-11' labels in a new column\n",
    "df['Original_ICD-11'] = df['ICD-11']\n",
    "\n",
    "# Splitting classes by ',' and '-' using regex\n",
    "df['ICD-11'] = df['ICD-11'].str.split(r'[,-]')\n",
    "\n",
    "# Extracting the first character of each segment\n",
    "df['ICD-11'] = df['ICD-11'].apply(lambda x: [code[0] for code in x])\n",
    "\n",
    "# Store encoded classes in a new column\n",
    "df['Encoded_Classes'] = df['ICD-11'].apply(lambda x: ','.join(x))\n",
    "\n",
    "# Applying one-hot encoding using MultiLabelBinarizer\n",
    "mlb = MultiLabelBinarizer()\n",
    "encoded_labels = pd.DataFrame(mlb.fit_transform(df['ICD-11']), columns=mlb.classes_, index=df.index)\n",
    "\n",
    "# Concatenate the encoded labels with the original DataFrame\n",
    "df_encoded = pd.concat([df, encoded_labels], axis=1)\n",
    "\n",
    "print(df_encoded)"
   ]
  },
  {
   "cell_type": "code",
   "execution_count": 4,
   "id": "315b15e5-6f16-4f3f-92db-bcb032aac9b0",
   "metadata": {},
   "outputs": [
    {
     "data": {
      "text/plain": [
       "Index(['rid', 'PSME1', 'ATF1', 'RHEB', 'FOXO3', 'RHOA', 'IL1B', 'ASAH1',\n",
       "       'RALA', 'ARHGEF12',\n",
       "       ...\n",
       "       'E', 'F', 'G', 'H', 'J', 'L', 'M', 'N', 'Q', 'S'],\n",
       "      dtype='object', length=1005)"
      ]
     },
     "execution_count": 4,
     "metadata": {},
     "output_type": "execute_result"
    }
   ],
   "source": [
    "df_encoded.columns"
   ]
  },
  {
   "cell_type": "code",
   "execution_count": 5,
   "id": "6da6b815-8d5b-4e2d-bd3a-b065471ff089",
   "metadata": {},
   "outputs": [],
   "source": [
    "df_encoded.drop(columns=['ICD-11','Encoded_Classes'], inplace=True)"
   ]
  },
  {
   "cell_type": "code",
   "execution_count": 7,
   "id": "e1c7a390-0610-4589-85d1-6222deeabe5b",
   "metadata": {},
   "outputs": [],
   "source": [
    "# save to a CSV file\n",
    "df_encoded.to_csv('/data4/msc23104470/version1_data-matrix-TTD-w-HUGO-symbols-ICD-11_RD_encoded.csv', sep=',', index=False)"
   ]
  }
 ],
 "metadata": {
  "kernelspec": {
   "display_name": "Python 3 (ipykernel)",
   "language": "python",
   "name": "python3"
  },
  "language_info": {
   "codemirror_mode": {
    "name": "ipython",
    "version": 3
   },
   "file_extension": ".py",
   "mimetype": "text/x-python",
   "name": "python",
   "nbconvert_exporter": "python",
   "pygments_lexer": "ipython3",
   "version": "3.9.19"
  }
 },
 "nbformat": 4,
 "nbformat_minor": 5
}
