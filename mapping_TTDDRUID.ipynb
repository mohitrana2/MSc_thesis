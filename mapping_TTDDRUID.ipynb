{
 "cells": [
  {
   "cell_type": "code",
   "execution_count": 11,
   "id": "a63ef837-2e81-48ab-a59b-f6d0398d3007",
   "metadata": {},
   "outputs": [],
   "source": [
    "import pandas as pd\n",
    "\n",
    "df1_path = 'P1-05-Drug_disease_Approved.csv'\n",
    "df2_path = 'P1-02-TTD_drug_download_filtered.csv'\n",
    "\n",
    "df1 = pd.read_csv(df1_path, sep=',')\n",
    "df2 = pd.read_csv(df2_path, sep=',')\n",
    "\n",
    "# Merge the data frames on the 'common_col' column with a left join\n",
    "merged_df1 = pd.merge(df1, df2, on='TTDDRUID', how='inner')\n",
    "merged_df2 = pd.merge(df1, df2, on='TTDDRUID', how='left')"
   ]
  },
  {
   "cell_type": "code",
   "execution_count": 12,
   "id": "7df36151-f15a-4a2b-9d61-f597c8e26d1d",
   "metadata": {},
   "outputs": [],
   "source": [
    "# Display the merged dataframe\n",
    "merged_df1.to_csv('mapped_TTDDRUIDs_inner.csv', sep=',')\n",
    "merged_df2.to_csv('mapped_TTDDRUIDs_left.csv', sep=',')"
   ]
  }
 ],
 "metadata": {
  "kernelspec": {
   "display_name": "Python 3 (ipykernel)",
   "language": "python",
   "name": "python3"
  },
  "language_info": {
   "codemirror_mode": {
    "name": "ipython",
    "version": 3
   },
   "file_extension": ".py",
   "mimetype": "text/x-python",
   "name": "python",
   "nbconvert_exporter": "python",
   "pygments_lexer": "ipython3",
   "version": "3.9.19"
  }
 },
 "nbformat": 4,
 "nbformat_minor": 5
}
